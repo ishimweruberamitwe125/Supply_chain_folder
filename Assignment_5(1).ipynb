{
  "nbformat": 4,
  "nbformat_minor": 0,
  "metadata": {
    "colab": {
      "provenance": []
    },
    "kernelspec": {
      "name": "python3",
      "display_name": "Python 3"
    },
    "language_info": {
      "name": "python"
    }
  },
  "cells": [
    {
      "cell_type": "code",
      "source": [
        "import numpy as np\n",
        "import pandas as pd\n",
        "\n",
        "# Provided data as a DataFrame\n",
        "products_data = pd.DataFrame([\n",
        "    {\"D\": 1000, \"common_ordering_cost\": 100, \"specific_ordering_cost\": 10, \"unit_cost\": 50, \"H\": 0.2},\n",
        "    {\"D\": 300, \"common_ordering_cost\": 100, \"specific_ordering_cost\": 20, \"unit_cost\": 60, \"H\": 0.2},\n",
        "    {\"D\": 100, \"common_ordering_cost\": 100, \"specific_ordering_cost\": 25, \"unit_cost\": 30, \"H\": 0.2},\n",
        "    {\"D\": 50, \"common_ordering_cost\": 100, \"specific_ordering_cost\": 25, \"unit_cost\": 30, \"H\": 0.2},\n",
        "])\n",
        "\n",
        "# Calculate total ordering costs for each product\n",
        "products_data['product_specific_ordering_costs'] = products_data['common_ordering_cost'] + products_data['specific_ordering_cost']\n",
        "\n",
        "# Calculate holding costs for each product\n",
        "products_data['holding_costs'] = products_data['H'] * products_data['unit_cost']\n",
        "\n",
        "# Independent Sourcing Strategy\n",
        "products_data['EOQ_independent'] = np.sqrt((2 * products_data['D'] * products_data['product_specific_ordering_costs']) / products_data['holding_costs'])\n",
        "products_data['total_cost_independent'] = (products_data['D'] / products_data['EOQ_independent']) * products_data['product_specific_ordering_costs'] + (products_data['EOQ_independent'] / 2) * products_data['holding_costs']\n",
        "\n",
        "# Output the results\n",
        "print(\"Independent Sourcing Total Cost(Products are sourced independently):\", products_data['total_cost_independent'].sum())\n"
      ],
      "metadata": {
        "colab": {
          "base_uri": "https://localhost:8080/"
        },
        "id": "V4rRHQ9XrmMm",
        "outputId": "3de94939-e895-4c85-f6de-be3f451d80ca"
      },
      "execution_count": 69,
      "outputs": [
        {
          "output_type": "stream",
          "name": "stdout",
          "text": [
            "Independent Sourcing Total Cost(Products are sourced independently): 3073.9153138822376\n"
          ]
        }
      ]
    },
    {
      "cell_type": "code",
      "source": [
        "import math\n",
        "import pandas as pd\n",
        "\n",
        "# Provided data as a DataFrame\n",
        "products_data = pd.DataFrame([\n",
        "    {\"D\": 1000, \"common_ordering_cost\": 100, \"specific_ordering_cost\": 10, \"unit_cost\": 50, \"H\": 0.2},\n",
        "    {\"D\": 300, \"common_ordering_cost\": 100, \"specific_ordering_cost\": 20, \"unit_cost\": 60, \"H\": 0.2},\n",
        "    {\"D\": 100, \"common_ordering_cost\": 100, \"specific_ordering_cost\": 25, \"unit_cost\": 30, \"H\": 0.2},\n",
        "    {\"D\": 50, \"common_ordering_cost\": 100, \"specific_ordering_cost\": 25, \"unit_cost\": 30, \"H\": 0.2},\n",
        "])\n",
        "\n",
        "# Calculate the nominator\n",
        "nominator = products_data['D'] * products_data['H'] * products_data['unit_cost']\n",
        "\n",
        "# Aggregate all specific ordering costs to one common ordering cost\n",
        "total_specific_ordering_cost = products_data['specific_ordering_cost'].sum()+products_data['common_ordering_cost'][0]\n",
        "\n",
        "\n",
        "# Calculate n_star using the total effective ordering cost\n",
        "n_star = math.sqrt(nominator.sum() / (2 * total_specific_ordering_cost))\n",
        "\n",
        "# Calculate Optimal Order Size and Annual Holding Cost for each product\n",
        "products_data['Optimal Order Size'] = products_data['D'] / n_star\n",
        "products_data['Annual Holding Cost'] = products_data['Optimal Order Size'] * products_data['H'] * products_data['unit_cost'] / 2\n",
        "\n",
        "# Calculate total annual cost for aggregation\n",
        "annual_order_cost_aggregation = n_star * total_specific_ordering_cost\n",
        "total_annual_cost_aggregation = annual_order_cost_aggregation + products_data['Annual Holding Cost'].sum()\n",
        "\n",
        "# Set order frequency for each product\n",
        "products_data['Order Frequency'] = n_star\n",
        "\n",
        "# Display the modified DataFrame with the calculated values\n",
        "print(products_data)\n",
        "\n",
        "# Print the total annual cost for aggregation\n",
        "print(\"Total Annual Cost (All four products are sourced with the same frequency):\", total_annual_cost_aggregation)\n"
      ],
      "metadata": {
        "colab": {
          "base_uri": "https://localhost:8080/"
        },
        "id": "84jSkBDLs3BF",
        "outputId": "25fc45a4-935b-45d9-e946-536f17abd9ef"
      },
      "execution_count": 14,
      "outputs": [
        {
          "output_type": "stream",
          "name": "stdout",
          "text": [
            "      D  common_ordering_cost  specific_ordering_cost  unit_cost    H  \\\n",
            "0  1000                   100                      10         50  0.2   \n",
            "1   300                   100                      20         60  0.2   \n",
            "2   100                   100                      25         30  0.2   \n",
            "3    50                   100                      25         30  0.2   \n",
            "\n",
            "   Optimal Order Size  Annual Holding Cost  Order Frequency  \n",
            "0          157.567719           787.838597         6.346478  \n",
            "1           47.270316           283.621895         6.346478  \n",
            "2           15.756772            47.270316         6.346478  \n",
            "3            7.878386            23.635158         6.346478  \n",
            "Total Annual Cost (All four products are sourced with the same frequency): 2284.7319317591728\n"
          ]
        }
      ]
    },
    {
      "cell_type": "code",
      "source": [
        "import pandas as pd\n",
        "import numpy as np\n",
        "from tabulate import tabulate\n",
        "\n",
        "# Given Data\n",
        "data = {\n",
        "    \"D\": [1000, 300, 100, 50],\n",
        "    \"common_ordering_cost\": [100, 100, 100, 100],\n",
        "    \"specific_ordering_cost\": [10, 20, 25, 25],\n",
        "    \"unit_cost\": [50, 60, 30, 30],\n",
        "    \"H\": [0.2, 0.2, 0.2, 0.2]\n",
        "}\n",
        "\n",
        "products_data = pd.DataFrame(data)\n",
        "\n",
        "# Step 1: Independent Sourcing\n",
        "specific_ordering_cost_total = products_data['specific_ordering_cost'].sum() + products_data['common_ordering_cost'].iloc[0]\n",
        "products_data['EOQ_Independent'] = np.sqrt((2 * products_data['D'] * specific_ordering_cost_total) / (products_data['H'] * products_data['unit_cost']))\n",
        "products_data['Order_Frequency_Independent'] = products_data['D'] / products_data['EOQ_Independent']\n",
        "\n",
        "\n",
        "# Step 2: Tailored Aggregation - Identify specific ordering costs for other products\n",
        "most_frequent_product_independent = products_data.loc[products_data['Order_Frequency_Independent'].idxmax()]\n",
        "products_data['common_ordering_cost'] = 0\n",
        "products_data['EOQ_Tailored_Step2'] = np.sqrt((2 * products_data['D'] * products_data['specific_ordering_cost']) / (products_data['H'] * products_data['unit_cost']))\n",
        "\n",
        "# Set Order_Frequency_Tailored_Step2 for index 0 to be the same as Order_Frequency_Independent\n",
        "products_data.at[0, 'Order_Frequency_Tailored_Step2'] = products_data.at[0, 'Order_Frequency_Independent']\n",
        "\n",
        "# Calculate Order_Frequency_Tailored_Step2 for indices 1, 2, and 3\n",
        "products_data['Order_Frequency_Tailored_Step2'][1:] = products_data['D'][1:] / products_data['EOQ_Tailored_Step2'][1:]\n",
        "\n",
        "# Step 3: Identify frequency multiples (m_i)\n",
        "products_data['m_i'] = np.ceil(most_frequent_product_independent['Order_Frequency_Independent'] / products_data['Order_Frequency_Tailored_Step2'])\n",
        "\n",
        "# Step 4: Recalculate ordering frequency for all products\n",
        "products_data['Order_Frequency_Step4'] = products_data['D'] / np.sqrt((2 * products_data['D'] * products_data['specific_ordering_cost']) / (products_data['H'] * products_data['unit_cost']))\n",
        "\n",
        "# Step 5: Identify ordering frequency of all products\n",
        "products_data['n'] = np.sqrt((2 * (products_data['H'] * products_data['unit_cost'] * products_data['D'] * products_data['m_i']).sum()) / (2 * (most_frequent_product_independent['common_ordering_cost'] + (products_data['specific_ordering_cost'] / products_data['m_i']).sum())))\n",
        "products_data['Order_Frequency_Tailored_Step5'] = products_data['D'] / products_data['n']\n",
        "\n",
        "# Calculate Total Annual Cost for Tailored Aggregation Step 5\n",
        "products_data['Annual_Cost_Tailored_Step5'] = (products_data['D'] / products_data['Order_Frequency_Tailored_Step5']) * (most_frequent_product_independent['common_ordering_cost'] + products_data['specific_ordering_cost'] / products_data['m_i']) + 0.5 * products_data['EOQ_Tailored_Step2'] * products_data['H'] * products_data['unit_cost']\n",
        "\n",
        "# Calculate Total Annual Cost for all products\n",
        "total_annual_cost_tailored_step5 = products_data['Annual_Cost_Tailored_Step5'].sum()\n",
        "\n",
        "# Display the product data in a table-like format\n",
        "table_data = products_data[['D', 'common_ordering_cost', 'specific_ordering_cost', 'unit_cost', 'H', 'EOQ_Independent', 'Order_Frequency_Independent', 'EOQ_Tailored_Step2', 'Order_Frequency_Tailored_Step2', 'm_i', 'Order_Frequency_Step4', 'Order_Frequency_Tailored_Step5', 'Annual_Cost_Tailored_Step5']]\n",
        "table = tabulate(table_data, headers='keys', tablefmt='grid', showindex=False)\n",
        "print(table)\n",
        "\n",
        "# Display the total annual cost for all products\n",
        "print(f'Total Annual Cost (Tailored Aggregation Step 5): {total_annual_cost_tailored_step5}')\n"
      ],
      "metadata": {
        "colab": {
          "base_uri": "https://localhost:8080/"
        },
        "id": "G9uJI8ROqoYy",
        "outputId": "5ea0c740-65c9-4a49-9713-083486214f12"
      },
      "execution_count": 89,
      "outputs": [
        {
          "output_type": "stream",
          "name": "stdout",
          "text": [
            "+------+------------------------+--------------------------+-------------+-----+-------------------+-------------------------------+----------------------+----------------------------------+-------+-------------------------+----------------------------------+------------------------------+\n",
            "|    D |   common_ordering_cost |   specific_ordering_cost |   unit_cost |   H |   EOQ_Independent |   Order_Frequency_Independent |   EOQ_Tailored_Step2 |   Order_Frequency_Tailored_Step2 |   m_i |   Order_Frequency_Step4 |   Order_Frequency_Tailored_Step5 |   Annual_Cost_Tailored_Step5 |\n",
            "+======+========================+==========================+=============+=====+===================+===============================+======================+==================================+=======+=========================+==================================+==============================+\n",
            "| 1000 |                      0 |                       10 |          50 | 0.2 |          189.737  |                      5.27046  |              44.7214 |                          5.27046 |     1 |                22.3607  |                         98.0164  |                      1345.87 |\n",
            "+------+------------------------+--------------------------+-------------+-----+-------------------+-------------------------------+----------------------+----------------------------------+-------+-------------------------+----------------------------------+------------------------------+\n",
            "|  300 |                      0 |                       20 |          60 | 0.2 |           94.8683 |                      3.16228  |              31.6228 |                          9.48683 |     1 |                 9.48683 |                         29.4049  |                      1414.02 |\n",
            "+------+------------------------+--------------------------+-------------+-----+-------------------+-------------------------------+----------------------+----------------------------------+-------+-------------------------+----------------------------------+------------------------------+\n",
            "|  100 |                      0 |                       25 |          30 | 0.2 |           77.4597 |                      1.29099  |              28.8675 |                          3.4641  |     2 |                 3.4641  |                          9.80164 |                      1234.37 |\n",
            "+------+------------------------+--------------------------+-------------+-----+-------------------+-------------------------------+----------------------+----------------------------------+-------+-------------------------+----------------------------------+------------------------------+\n",
            "|   50 |                      0 |                       25 |          30 | 0.2 |           54.7723 |                      0.912871 |              20.4124 |                          2.44949 |     3 |                 2.44949 |                          4.90082 |                      1166.49 |\n",
            "+------+------------------------+--------------------------+-------------+-----+-------------------+-------------------------------+----------------------+----------------------------------+-------+-------------------------+----------------------------------+------------------------------+\n",
            "Total Annual Cost (Tailored Aggregation Step 5): 5160.752692293524\n"
          ]
        },
        {
          "output_type": "stream",
          "name": "stderr",
          "text": [
            "<ipython-input-89-630a2c43de47>:36: SettingWithCopyWarning: \n",
            "A value is trying to be set on a copy of a slice from a DataFrame\n",
            "\n",
            "See the caveats in the documentation: https://pandas.pydata.org/pandas-docs/stable/user_guide/indexing.html#returning-a-view-versus-a-copy\n",
            "  products_data['Order_Frequency_Tailored_Step2'][1:] = products_data['D'][1:] / products_data['EOQ_Tailored_Step2'][1:]\n"
          ]
        }
      ]
    }
  ]
}